{
 "cells": [
  {
   "cell_type": "markdown",
   "id": "765e3fba",
   "metadata": {},
   "source": [
    "# Reference finder for Astronomical Objects"
   ]
  },
  {
   "cell_type": "code",
   "execution_count": 1,
   "id": "8bbf036f",
   "metadata": {},
   "outputs": [],
   "source": [
    "import astroquery\n",
    "import astropy\n",
    "import pyvo\n",
    "import time"
   ]
  },
  {
   "cell_type": "markdown",
   "id": "343def8b",
   "metadata": {},
   "source": [
    "This script queries the simbad astronomical database and returns the papers that the queried object has been referenced in. "
   ]
  },
  {
   "cell_type": "code",
   "execution_count": 2,
   "id": "10808bed",
   "metadata": {},
   "outputs": [
    {
     "name": "stdout",
     "output_type": "stream",
     "text": [
      "Enter the Object you want to query for: WASP-126 b\n",
      "Query completed in 0.6650428771972656 seconds.\n"
     ]
    },
    {
     "data": {
      "text/html": [
       "<i>Table length=13</i>\n",
       "<table id=\"table1852290139808-240410\" class=\"table-striped table-bordered table-condensed\">\n",
       "<thead><tr><th>idx</th><th>bibcode</th><th>journal</th><th>title</th><th>year</th><th>volume</th><th>Pages</th><th>doi</th></tr></thead>\n",
       "<tr><td>0</td><td>2022ApJS..258...40K</td><td>ApJS</td><td>ExoClock Project. II. A Large-scale Integrated Study with 180 Updated Exoplanet Ephemerides.</td><td>2022</td><td>258</td><td>40-40</td><td>10.3847/1538-4365/ac3a10</td></tr>\n",
       "<tr><td>1</td><td>2021ApJS..254...39G</td><td>ApJS</td><td>The TESS Objects of Interest Catalog from the TESS Prime Mission.</td><td>2021</td><td>254</td><td>39-39</td><td>10.3847/1538-4365/abefe1</td></tr>\n",
       "<tr><td>2</td><td>2020AJ....159...41T</td><td>AJ</td><td>Estimating planetary mass with deep learning.</td><td>2020</td><td>159</td><td>41-41</td><td>10.3847/1538-3881/ab5b9e</td></tr>\n",
       "<tr><td>3</td><td>2020AJ....159...44C</td><td>AJ</td><td>XO-7 b: a transiting hot Jupiter with a massive companion on a wide orbit.</td><td>2020</td><td>159</td><td>44-44</td><td>10.3847/1538-3881/ab5b12</td></tr>\n",
       "<tr><td>4</td><td>2020A&amp;A...634A..43O</td><td>A&amp;A</td><td>Revisited mass-radius relations for exoplanets below 120 M_{Earth}_.</td><td>2020</td><td>634</td><td>43-43</td><td>10.1051/0004-6361/201936482</td></tr>\n",
       "<tr><td>5</td><td>2020AcA....70..181M</td><td>AcA</td><td>Search for Planets in Hot Jupiter Systems with Multi-Sector TESS Photometry. I. No Companions in Planetary Systems KELT-18, KELT-23, KELT-24, Qatar-8, WASP-62, WASP-100, WASP-119, and WASP-126.</td><td>2020</td><td>70</td><td>181-202</td><td></td></tr>\n",
       "<tr><td>6</td><td>2019AJ....158..243P</td><td>AJ</td><td>A search for multiplanet systems with TESS using a Bayesian N-body retrieval and machine learning.</td><td>2019</td><td>158</td><td>243-243</td><td>10.3847/1538-3881/ab4e1c</td></tr>\n",
       "<tr><td>7</td><td>2019MNRAS.484.3233B</td><td>MNRAS</td><td>HARPS-N radial velocities confirm the low densities of the Kepler-9 planets.</td><td>2019</td><td>484</td><td>3233-3243</td><td>10.1093/mnras/stz181</td></tr>\n",
       "<tr><td>8</td><td>2019AJ....157..242E</td><td>AJ</td><td>An updated study of potential targets for Ariel.</td><td>2019</td><td>157</td><td>242-242</td><td>10.3847/1538-3881/ab1cb9</td></tr>\n",
       "<tr><td>9</td><td>2019PASP..131i4502F</td><td>PASP</td><td>Eleanor: an open-source tool for extracting light curves from the TESS full-frame images.</td><td>2019</td><td>131</td><td>4502-94502</td><td>10.1088/1538-3873/ab291c</td></tr>\n",
       "<tr><td>10</td><td>2019A&amp;A...630A.135U</td><td>A&amp;A</td><td>Beyond the exoplanet mass-radius relation.</td><td>2019</td><td>630</td><td>135-135</td><td>10.1051/0004-6361/201936049</td></tr>\n",
       "<tr><td>11</td><td>2016A&amp;A...591A..55M</td><td>A&amp;A</td><td>Five transiting hot Jupiters discovered using WASP-South, Euler, and TRAPPIST: WASP-119 b, WASP-124 b, WASP-126 b, WASP-129 b, and WASP-133 b.</td><td>2016</td><td>591</td><td>55-55</td><td>10.1051/0004-6361/201628250</td></tr>\n",
       "<tr><td>12</td><td>2016AJ....152..182H</td><td>AJ</td><td>HAT-P-65b and HAT-P-66b: two transiting inflated hot Jupiters and observational evidence for the reinflation of close-in giant planets.</td><td>2016</td><td>152</td><td>182-182</td><td>10.3847/0004-6256/152/6/182</td></tr>\n",
       "</table><style>table.dataTable {clear: both; width: auto !important; margin: 0 !important;}\n",
       ".dataTables_info, .dataTables_length, .dataTables_filter, .dataTables_paginate{\n",
       "display: inline-block; margin-right: 1em; }\n",
       ".paginate_button { margin-right: 5px; }\n",
       "</style>\n",
       "<script>\n",
       "\n",
       "var astropy_sort_num = function(a, b) {\n",
       "    var a_num = parseFloat(a);\n",
       "    var b_num = parseFloat(b);\n",
       "\n",
       "    if (isNaN(a_num) && isNaN(b_num))\n",
       "        return ((a < b) ? -1 : ((a > b) ? 1 : 0));\n",
       "    else if (!isNaN(a_num) && !isNaN(b_num))\n",
       "        return ((a_num < b_num) ? -1 : ((a_num > b_num) ? 1 : 0));\n",
       "    else\n",
       "        return isNaN(a_num) ? -1 : 1;\n",
       "}\n",
       "\n",
       "require.config({paths: {\n",
       "    datatables: 'https://cdn.datatables.net/1.10.12/js/jquery.dataTables.min'\n",
       "}});\n",
       "require([\"datatables\"], function(){\n",
       "    console.log(\"$('#table1852290139808-240410').dataTable()\");\n",
       "    \n",
       "jQuery.extend( jQuery.fn.dataTableExt.oSort, {\n",
       "    \"optionalnum-asc\": astropy_sort_num,\n",
       "    \"optionalnum-desc\": function (a,b) { return -astropy_sort_num(a, b); }\n",
       "});\n",
       "\n",
       "    $('#table1852290139808-240410').dataTable({\n",
       "        order: [],\n",
       "        pageLength: 50,\n",
       "        lengthMenu: [[10, 25, 50, 100, 500, 1000, -1], [10, 25, 50, 100, 500, 1000, 'All']],\n",
       "        pagingType: \"full_numbers\",\n",
       "        columnDefs: [{targets: [0, 4, 5], type: \"optionalnum\"}]\n",
       "    });\n",
       "});\n",
       "</script>\n"
      ],
      "text/plain": [
       "<IPython.core.display.HTML object>"
      ]
     },
     "execution_count": 2,
     "metadata": {},
     "output_type": "execute_result"
    }
   ],
   "source": [
    "tapSimbad = pyvo.dal.TAPService(\"http://simbad.u-strasbg.fr:80/simbad/sim-tap\")\n",
    "obj = input(\"Enter the Object you want to query for: \")\n",
    "adql_query = f\"\"\"\n",
    "SELECT BIBCode, Journal, Title, \"year\", Volume,\n",
    "       Page || '-' || Last_Page AS \"Pages\", DOI \n",
    "FROM ref JOIN has_ref ON oidbibref = oidbib \n",
    "         JOIN ident ON has_ref.oidref = ident.oidref \n",
    "WHERE id = '{obj}'\n",
    "ORDER BY \"year\" DESC;\"\"\"\n",
    "t0 = time.time()\n",
    "biblioQuery = tapSimbad.search(adql_query).to_table()\n",
    "print(f\"Query completed in {time.time()-t0} seconds.\")\n",
    "biblioQuery.show_in_notebook()"
   ]
  }
 ],
 "metadata": {
  "kernelspec": {
   "display_name": "Python 3 (ipykernel)",
   "language": "python",
   "name": "python3"
  },
  "language_info": {
   "codemirror_mode": {
    "name": "ipython",
    "version": 3
   },
   "file_extension": ".py",
   "mimetype": "text/x-python",
   "name": "python",
   "nbconvert_exporter": "python",
   "pygments_lexer": "ipython3",
   "version": "3.10.9"
  }
 },
 "nbformat": 4,
 "nbformat_minor": 5
}
