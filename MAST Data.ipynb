{
 "cells": [
  {
   "cell_type": "markdown",
   "id": "1add6c29",
   "metadata": {},
   "source": [
    "<a id=\"top_page\"></a>\n",
    "# MAST Archive Data"
   ]
  },
  {
   "cell_type": "markdown",
   "id": "060788b6",
   "metadata": {},
   "source": [
    "This is a notebook that queries MAST data using the Table Access Protocol using Astronomical Data Query Language(ADQL) and downloads it into specific folders. "
   ]
  },
  {
   "cell_type": "code",
   "execution_count": 1,
   "id": "e2b47fe3",
   "metadata": {},
   "outputs": [],
   "source": [
    "import astropy\n",
    "from astropy.io import fits\n",
    "from astropy.table import Table\n",
    "from astropy.utils.data import download_file\n",
    "import astroquery\n",
    "import time\n",
    "from astroquery.mast import Catalogs\n",
    "import pyvo as vo"
   ]
  },
  {
   "cell_type": "code",
   "execution_count": 2,
   "id": "ed77976d",
   "metadata": {},
   "outputs": [],
   "source": [
    "from matplotlib import pyplot as plt\n",
    "import time\n",
    "import numpy as np\n",
    "import scipy as sp\n",
    "from scipy.stats import gaussian_kde\n",
    "import warnings as wr\n",
    "wr.filterwarnings(\"ignore\")"
   ]
  },
  {
   "cell_type": "markdown",
   "id": "1149eed5",
   "metadata": {},
   "source": [
    "## Some additional functions"
   ]
  },
  {
   "cell_type": "code",
   "execution_count": 3,
   "id": "4034e40f",
   "metadata": {},
   "outputs": [],
   "source": [
    "def getTableColumns(tableName):\n",
    "    \"\"\"\n",
    "    This is a helper function that fetches the columns of the table present in the tap service\n",
    "    and returns them in the form of an astropy table.\n",
    "    \"\"\"\n",
    "    col_list = []\n",
    "    for c in tap.tables[tableName].columns: \n",
    "        datum = {'name': c.name, 'description': c.description, 'unit': c.unit}\n",
    "        col_list.append(datum)\n",
    "    return(Table(col_list))"
   ]
  },
  {
   "cell_type": "markdown",
   "id": "bb61ab37",
   "metadata": {},
   "source": [
    "## Table Acess Protocol "
   ]
  },
  {
   "cell_type": "markdown",
   "id": "85f5fff6",
   "metadata": {},
   "source": [
    "### Connecting to the STScI Table Access Protocol Endpoint"
   ]
  },
  {
   "cell_type": "code",
   "execution_count": 5,
   "id": "5f2e0425",
   "metadata": {},
   "outputs": [],
   "source": [
    "TAP_URL = \"http://vao.stsci.edu/caomtap/tapservice.aspx\"\n",
    "#TAP_URL = \"https://exoplanetarchive.ipac.caltech.edu/TAP\""
   ]
  },
  {
   "cell_type": "code",
   "execution_count": 6,
   "id": "44474782",
   "metadata": {},
   "outputs": [
    {
     "name": "stdout",
     "output_type": "stream",
     "text": [
      "Capability ivo://ivoa.net/std/TAP\n",
      "\n",
      "Interface None\n",
      "    http://vao.stsci.edu/caomtap/tapservice.aspx\n",
      "\n",
      "Datamodel ObsCore#core-1.1\n",
      "    ivo://ivoa.net/std/ObsCore#core-1.1\n",
      "\n",
      "Language ADQL\n",
      "    ivo://ivoa.net/std/TAPRegExt#features-adqlgeo\n",
      "        BOX\n",
      "\n",
      "        POINT\n",
      "\n",
      "        CIRCLE\n",
      "\n",
      "        POLYGON\n",
      "\n",
      "        CONTAINS\n",
      "\n",
      "\n",
      "Output format application/x-votable+xml\n",
      "    Also available as votable\n",
      "\n",
      "Output format text/csv;header=present\n",
      "    Also available as csv\n",
      "\n",
      "\n",
      "Capability ivo://ivoa.net/std/DALI#examples-1.0\n",
      "\n",
      "Interface vr:WebBrowser\n",
      "    http://vao.stsci.edu/caomtap/tapservice.aspx/examples\n",
      "\n",
      "\n"
     ]
    }
   ],
   "source": [
    "tap = vo.dal.TAPService(TAP_URL)\n",
    "tap.describe()"
   ]
  },
  {
   "cell_type": "markdown",
   "id": "e567f4bf",
   "metadata": {},
   "source": [
    "### List Available Tables and columns "
   ]
  },
  {
   "cell_type": "code",
   "execution_count": 7,
   "id": "5a253c76",
   "metadata": {},
   "outputs": [
    {
     "data": {
      "text/html": [
       "<div><i>Table length=12</i>\n",
       "<table id=\"table1772075975344\" class=\"table-striped table-bordered table-condensed\">\n",
       "<thead><tr><th>name</th><th>description</th></tr></thead>\n",
       "<thead><tr><th>str26</th><th>str271</th></tr></thead>\n",
       "<tr><td>ivoa.obscore</td><td>The IVOA-defined obscore table, version 1.1, containing generic metadata for datasets within this datacenter&apos;s CAOM database.</td></tr>\n",
       "<tr><td>dbo.CaomObservation</td><td>An observation is the primary top-level class for empirical data.</td></tr>\n",
       "<tr><td>dbo.CaomPlane</td><td>A plane is one (of several) data product(s) that are created as part of an observation. Each simple observation typically has one raw plane created by the observing process itself and may have one or more additional planes that are produced by subsequent data processing.</td></tr>\n",
       "<tr><td>dbo.CaomArtifact</td><td>An artifact is one physical product or resource (typically a file) that is part of a plane.</td></tr>\n",
       "<tr><td>dbo.CaomPart</td><td>A part is format-specific name; this is typically something like a FITS extension or a file within a container</td></tr>\n",
       "<tr><td>dbo.CaomChunk</td><td>A chunk is a quantitatively defined subsection of a data array; the part contains the whole array</td></tr>\n",
       "<tr><td>dbo.CaomMembers</td><td>members of a composite observation.</td></tr>\n",
       "<tr><td>dbo.MastLinks</td><td>members of a linked observation.</td></tr>\n",
       "<tr><td>dbo.MASTproductDescription</td><td>descriptions and documentation for projects</td></tr>\n",
       "<tr><td>dbo.ObsPointing</td><td>A view for science observations. This returns equivalent data to a Portal search. Wavelength scale, dates, and target keywords have been adjusted from the main Caom table data.</td></tr>\n",
       "<tr><td>dbo.CalPointing</td><td>A view for calibration observations. Wavelength scale, dates, and target keywords have been adjusted from the main Caom table data.</td></tr>\n",
       "<tr><td>dbo.AllPointing</td><td>A view for ALL observations. Wavelength scale, dates, and target keywords have been adjusted from the main Caom table data.</td></tr>\n",
       "</table></div>"
      ],
      "text/plain": [
       "<Table length=12>\n",
       "           name            ...\n",
       "          str26            ...\n",
       "-------------------------- ...\n",
       "              ivoa.obscore ...\n",
       "       dbo.CaomObservation ...\n",
       "             dbo.CaomPlane ...\n",
       "          dbo.CaomArtifact ...\n",
       "              dbo.CaomPart ...\n",
       "             dbo.CaomChunk ...\n",
       "           dbo.CaomMembers ...\n",
       "             dbo.MastLinks ...\n",
       "dbo.MASTproductDescription ...\n",
       "           dbo.ObsPointing ...\n",
       "           dbo.CalPointing ...\n",
       "           dbo.AllPointing ..."
      ]
     },
     "execution_count": 7,
     "metadata": {},
     "output_type": "execute_result"
    }
   ],
   "source": [
    "# List of tables with descriptions\n",
    "table_list = []\n",
    "for t in tap.tables: \n",
    "    if not \"tap_schema\" in t.name:        \n",
    "        table = {'name': t.name, 'description': t.description}\n",
    "        table_list.append(table)\n",
    "Table(table_list)"
   ]
  },
  {
   "cell_type": "code",
   "execution_count": 8,
   "id": "a2f4027d",
   "metadata": {},
   "outputs": [
    {
     "data": {
      "text/html": [
       "<i>Table length=30</i>\n",
       "<table id=\"table1772075977888-416380\" class=\"table-striped table-bordered table-condensed\">\n",
       "<thead><tr><th>idx</th><th>name</th><th>description</th><th>unit</th></tr></thead>\n",
       "<tr><td>0</td><td>dataproduct_type</td><td>High level scientific classification of the data product, taken from an enumeration</td><td>None</td></tr>\n",
       "<tr><td>1</td><td>calib_level</td><td>Amount of data processing that has been applied to the data</td><td>None</td></tr>\n",
       "<tr><td>2</td><td>obs_collection</td><td>Name of a data collection (e.g., project name) this data belongs to</td><td>None</td></tr>\n",
       "<tr><td>3</td><td>obs_id</td><td>Unique identifier for an observation</td><td>None</td></tr>\n",
       "<tr><td>4</td><td>obs_publisher_did</td><td>Dataset identifier assigned by the publisher.</td><td>None</td></tr>\n",
       "<tr><td>5</td><td>access_url</td><td>The URL at which to obtain the data set.</td><td>None</td></tr>\n",
       "<tr><td>6</td><td>access_format</td><td>MIME type of the resource at access_url</td><td>None</td></tr>\n",
       "<tr><td>7</td><td>access_estsize</td><td>Estimated size of data product</td><td>kbyte</td></tr>\n",
       "<tr><td>8</td><td>target_name</td><td>Object a targeted observation targeted</td><td>None</td></tr>\n",
       "<tr><td>9</td><td>s_ra</td><td>RA of (center of) observation, ICRS</td><td>deg</td></tr>\n",
       "<tr><td>10</td><td>s_dec</td><td>Dec of (center of) observation, ICRS</td><td>deg</td></tr>\n",
       "<tr><td>11</td><td>s_fov</td><td>Approximate spatial extent for the region covered by the observation</td><td>deg</td></tr>\n",
       "<tr><td>12</td><td>s_region</td><td>Region covered by the observation, as a polyn</td><td>None</td></tr>\n",
       "<tr><td>13</td><td>s_xel1</td><td>Number of elements along the first spatial axis</td><td>None</td></tr>\n",
       "<tr><td>14</td><td>s_xel2</td><td>Number of elements along the second spatial axis</td><td>None</td></tr>\n",
       "<tr><td>15</td><td>s_resolution</td><td>Best spatial resolution within the data set</td><td>arcsec</td></tr>\n",
       "<tr><td>16</td><td>t_min</td><td>Lower bound of times represented in the data set, as MJD</td><td>d</td></tr>\n",
       "<tr><td>17</td><td>t_max</td><td>Upper bound of times represented in the data set, as MJD</td><td>d</td></tr>\n",
       "<tr><td>18</td><td>t_exptime</td><td>Total exposure time</td><td>s</td></tr>\n",
       "<tr><td>19</td><td>t_resolution</td><td>Minimal significant time interval along the time axis</td><td>s</td></tr>\n",
       "<tr><td>20</td><td>t_xel</td><td>dimensions (number of pixels) along the time axis</td><td>s</td></tr>\n",
       "<tr><td>21</td><td>em_min</td><td>Minimal wavelength represented within the data set</td><td>m</td></tr>\n",
       "<tr><td>22</td><td>em_max</td><td>Maximal wavelength represented within the data set</td><td>m</td></tr>\n",
       "<tr><td>23</td><td>em_res_power</td><td>Spectral resolving power delta lambda/lamda</td><td>None</td></tr>\n",
       "<tr><td>24</td><td>em_xel</td><td>dimensions (number of pixels) along the energy axis</td><td>None</td></tr>\n",
       "<tr><td>25</td><td>o_ucd</td><td>UCD for the product&apos;s observable</td><td>None</td></tr>\n",
       "<tr><td>26</td><td>pol_states</td><td>List of polarization states in the data set</td><td>None</td></tr>\n",
       "<tr><td>27</td><td>pol_xel</td><td>dimensions (number of pixels) along the polarization axis</td><td>None</td></tr>\n",
       "<tr><td>28</td><td>facility_name</td><td>Name of the facility at which data was taken</td><td>None</td></tr>\n",
       "<tr><td>29</td><td>instrument_name</td><td>Name of the instrument that produced the data</td><td>None</td></tr>\n",
       "</table><style>table.dataTable {clear: both; width: auto !important; margin: 0 !important;}\n",
       ".dataTables_info, .dataTables_length, .dataTables_filter, .dataTables_paginate{\n",
       "display: inline-block; margin-right: 1em; }\n",
       ".paginate_button { margin-right: 5px; }\n",
       "</style>\n",
       "<script>\n",
       "\n",
       "var astropy_sort_num = function(a, b) {\n",
       "    var a_num = parseFloat(a);\n",
       "    var b_num = parseFloat(b);\n",
       "\n",
       "    if (isNaN(a_num) && isNaN(b_num))\n",
       "        return ((a < b) ? -1 : ((a > b) ? 1 : 0));\n",
       "    else if (!isNaN(a_num) && !isNaN(b_num))\n",
       "        return ((a_num < b_num) ? -1 : ((a_num > b_num) ? 1 : 0));\n",
       "    else\n",
       "        return isNaN(a_num) ? -1 : 1;\n",
       "}\n",
       "\n",
       "require.config({paths: {\n",
       "    datatables: 'https://cdn.datatables.net/1.10.12/js/jquery.dataTables.min'\n",
       "}});\n",
       "require([\"datatables\"], function(){\n",
       "    console.log(\"$('#table1772075977888-416380').dataTable()\");\n",
       "    \n",
       "jQuery.extend( jQuery.fn.dataTableExt.oSort, {\n",
       "    \"optionalnum-asc\": astropy_sort_num,\n",
       "    \"optionalnum-desc\": function (a,b) { return -astropy_sort_num(a, b); }\n",
       "});\n",
       "\n",
       "    $('#table1772075977888-416380').dataTable({\n",
       "        order: [],\n",
       "        pageLength: 50,\n",
       "        lengthMenu: [[10, 25, 50, 100, 500, 1000, -1], [10, 25, 50, 100, 500, 1000, 'All']],\n",
       "        pagingType: \"full_numbers\",\n",
       "        columnDefs: [{targets: [0], type: \"optionalnum\"}]\n",
       "    });\n",
       "});\n",
       "</script>\n"
      ],
      "text/plain": [
       "<IPython.core.display.HTML object>"
      ]
     },
     "execution_count": 8,
     "metadata": {},
     "output_type": "execute_result"
    }
   ],
   "source": [
    "columns = getTableColumns(\"ivoa.obscore\")\n",
    "columns.show_in_notebook()"
   ]
  },
  {
   "cell_type": "markdown",
   "id": "7b3da22b",
   "metadata": {},
   "source": [
    "### ADQL Query\n",
    "\n",
    "Helpful guides for writing ADQL queries for MAST data: \n",
    "* [https://www.ivoa.net/documents/ObsCore/20170509/REC-ObsCore-v1.1-20170509.pdf](https://www.ivoa.net/documents/ObsCore/20170509/REC-ObsCore-v1.1-20170509.pdf)\n",
    "* [MAST CAOM Tap Example](https://notebooks.githubusercontent.com/view/ipynb?browser=chrome&color_mode=auto&commit=dc7e419d172c1d1f8c1f4bf56c69b2038510e898&device=unknown&enc_url=68747470733a2f2f7261772e67697468756275736572636f6e74656e742e636f6d2f4e4153412d4e41564f2f6161735f776f726b73686f705f323031382f646337653431396431373263316431663863316634626635366336396232303338353130653839382f6d6173742f43616f6d5461702e6970796e62&logged_in=false&nwo=NASA-NAVO%2Faas_workshop_2018&path=mast%2FCaomTap.ipynb&platform=android&repository_id=113874284&repository_type=Repository&version=99)"
   ]
  },
  {
   "cell_type": "markdown",
   "id": "31a2d0dd",
   "metadata": {},
   "source": [
    "WHERE em_min < 2.48E-10 AND em_max > 2.48 E-10"
   ]
  },
  {
   "cell_type": "code",
   "execution_count": 9,
   "id": "e4a4b750",
   "metadata": {
    "scrolled": false
   },
   "outputs": [
    {
     "name": "stdout",
     "output_type": "stream",
     "text": [
      "Query completed in 0.5136151313781738 seconds\n"
     ]
    },
    {
     "data": {
      "text/html": [
       "<i>Table length=5</i>\n",
       "<table id=\"table1772073972112-298302\" class=\"table-striped table-bordered table-condensed\">\n",
       "<thead><tr><th>idx</th><th>dataproduct_type</th><th>calib_level</th><th>obs_collection</th><th>obs_id</th><th>obs_publisher_did</th><th>access_url</th><th>access_format</th><th>access_estsize</th><th>target_name</th><th>s_ra</th><th>s_dec</th><th>s_fov</th><th>s_region</th><th>s_xel1</th><th>s_xel2</th><th>s_resolution</th><th>t_min</th><th>t_max</th><th>t_exptime</th><th>t_resolution</th><th>t_xel</th><th>em_min</th><th>em_max</th><th>em_res_power</th><th>em_xel</th><th>o_ucd</th><th>pol_states</th><th>pol_xel</th><th>facility_name</th><th>instrument_name</th></tr></thead>\n",
       "<thead><tr><th></th><th></th><th></th><th></th><th></th><th></th><th></th><th></th><th>kbyte</th><th></th><th>deg</th><th>deg</th><th>deg</th><th></th><th></th><th></th><th>arcsec</th><th>d</th><th>d</th><th>s</th><th>s</th><th>s</th><th>m</th><th>m</th><th></th><th></th><th></th><th></th><th></th><th></th><th></th></tr></thead>\n",
       "<tr><td>0</td><td>spectrum</td><td>2</td><td>BEFS</td><td>befs1001</td><td>ivo://archive.stsci.edu/BEFS?befs1001</td><td>https://mast.stsci.edu/portal/Download/file?uri=http://archive.stsci.edu/pub/vospectra/befs2/befs1001_spc1_vo.fits</td><td>image/fits</td><td>282240</td><td>HD 220172</td><td>350.4619</td><td>-9.76139</td><td>--</td><td>CIRCLE J2000 350.4619 -9.76139 0.00277777777778</td><td>--</td><td>--</td><td>--</td><td>49244.34996528</td><td>49244.37196759</td><td>1397.0</td><td>--</td><td>--</td><td>86123000000.0</td><td>117754000000.0</td><td>--</td><td>--</td><td>--</td><td></td><td>--</td><td>CALTECH</td><td>BEFS</td></tr>\n",
       "<tr><td>1</td><td>spectrum</td><td>2</td><td>BEFS</td><td>befs1001</td><td>ivo://archive.stsci.edu/BEFS?befs1001</td><td>https://mast.stsci.edu/portal/Download/file?uri=http://archive.stsci.edu/pub/vospectra/befs2/befs1001_spd1_vo.fits</td><td>image/fits</td><td>282240</td><td>HD 220172</td><td>350.4619</td><td>-9.76139</td><td>--</td><td>CIRCLE J2000 350.4619 -9.76139 0.00277777777778</td><td>--</td><td>--</td><td>--</td><td>49244.34996528</td><td>49244.37196759</td><td>1397.0</td><td>--</td><td>--</td><td>86123000000.0</td><td>117754000000.0</td><td>--</td><td>--</td><td>--</td><td></td><td>--</td><td>CALTECH</td><td>BEFS</td></tr>\n",
       "<tr><td>2</td><td>spectrum</td><td>2</td><td>BEFS</td><td>befs1001</td><td>ivo://archive.stsci.edu/BEFS?befs1001</td><td>https://mast.stsci.edu/portal/Download/file?uri=http://archive.stsci.edu/browse/previews/orfeus/befs/gif/BEFS1001.gif</td><td>image/jpeg</td><td>10708</td><td>HD 220172</td><td>350.4619</td><td>-9.76139</td><td>--</td><td>CIRCLE J2000 350.4619 -9.76139 0.00277777777778</td><td>--</td><td>--</td><td>--</td><td>49244.34996528</td><td>49244.37196759</td><td>1397.0</td><td>--</td><td>--</td><td>86123000000.0</td><td>117754000000.0</td><td>--</td><td>--</td><td>--</td><td></td><td>--</td><td>CALTECH</td><td>BEFS</td></tr>\n",
       "<tr><td>3</td><td>spectrum</td><td>2</td><td>BEFS</td><td>befs1001</td><td>ivo://archive.stsci.edu/BEFS?befs1001</td><td>https://mast.stsci.edu/portal/Download/file?uri=http://archive.stsci.edu/browse/previews/orfeus/befs/thumb/BEFS1001.gif</td><td>image/jpeg</td><td>2913</td><td>HD 220172</td><td>350.4619</td><td>-9.76139</td><td>--</td><td>CIRCLE J2000 350.4619 -9.76139 0.00277777777778</td><td>--</td><td>--</td><td>--</td><td>49244.34996528</td><td>49244.37196759</td><td>1397.0</td><td>--</td><td>--</td><td>86123000000.0</td><td>117754000000.0</td><td>--</td><td>--</td><td>--</td><td></td><td>--</td><td>CALTECH</td><td>BEFS</td></tr>\n",
       "<tr><td>4</td><td>spectrum</td><td>2</td><td>BEFS</td><td>befs1001</td><td>ivo://archive.stsci.edu/BEFS?befs1001</td><td>https://mast.stsci.edu/portal/Download/file?uri=http://archive.stsci.edu/pub/orfeus/befs/data/befs1001/befs1001.lst1.gz</td><td>image/fits</td><td>17172734</td><td>HD 220172</td><td>350.4619</td><td>-9.76139</td><td>--</td><td>CIRCLE J2000 350.4619 -9.76139 0.00277777777778</td><td>--</td><td>--</td><td>--</td><td>49244.34996528</td><td>49244.37196759</td><td>1397.0</td><td>--</td><td>--</td><td>86123000000.0</td><td>117754000000.0</td><td>--</td><td>--</td><td>--</td><td></td><td>--</td><td>CALTECH</td><td>BEFS</td></tr>\n",
       "</table><style>table.dataTable {clear: both; width: auto !important; margin: 0 !important;}\n",
       ".dataTables_info, .dataTables_length, .dataTables_filter, .dataTables_paginate{\n",
       "display: inline-block; margin-right: 1em; }\n",
       ".paginate_button { margin-right: 5px; }\n",
       "</style>\n",
       "<script>\n",
       "\n",
       "var astropy_sort_num = function(a, b) {\n",
       "    var a_num = parseFloat(a);\n",
       "    var b_num = parseFloat(b);\n",
       "\n",
       "    if (isNaN(a_num) && isNaN(b_num))\n",
       "        return ((a < b) ? -1 : ((a > b) ? 1 : 0));\n",
       "    else if (!isNaN(a_num) && !isNaN(b_num))\n",
       "        return ((a_num < b_num) ? -1 : ((a_num > b_num) ? 1 : 0));\n",
       "    else\n",
       "        return isNaN(a_num) ? -1 : 1;\n",
       "}\n",
       "\n",
       "require.config({paths: {\n",
       "    datatables: 'https://cdn.datatables.net/1.10.12/js/jquery.dataTables.min'\n",
       "}});\n",
       "require([\"datatables\"], function(){\n",
       "    console.log(\"$('#table1772073972112-298302').dataTable()\");\n",
       "    \n",
       "jQuery.extend( jQuery.fn.dataTableExt.oSort, {\n",
       "    \"optionalnum-asc\": astropy_sort_num,\n",
       "    \"optionalnum-desc\": function (a,b) { return -astropy_sort_num(a, b); }\n",
       "});\n",
       "\n",
       "    $('#table1772073972112-298302').dataTable({\n",
       "        order: [],\n",
       "        pageLength: 50,\n",
       "        lengthMenu: [[10, 25, 50, 100, 500, 1000, -1], [10, 25, 50, 100, 500, 1000, 'All']],\n",
       "        pagingType: \"full_numbers\",\n",
       "        columnDefs: [{targets: [0, 2, 8, 10, 11, 12, 14, 15, 16, 17, 18, 19, 20, 21, 22, 23, 24, 25, 26, 28], type: \"optionalnum\"}]\n",
       "    });\n",
       "});\n",
       "</script>\n"
      ],
      "text/plain": [
       "<IPython.core.display.HTML object>"
      ]
     },
     "execution_count": 9,
     "metadata": {},
     "output_type": "execute_result"
    }
   ],
   "source": [
    "# Basic ADQL query: SELECT <column list> FROM <table> WHERE <constraints>\n",
    "query=\"\"\"\n",
    "SELECT TOP 5 *\n",
    "FROM ivoa.ObsCore\n",
    "\"\"\"\n",
    "\n",
    "t0 = time.time()\n",
    "job = tap.run_sync(query)\n",
    "print(f\"Query completed in {time.time()-t0} seconds\")\n",
    "results = job.to_table()\n",
    "results.show_in_notebook()"
   ]
  },
  {
   "cell_type": "markdown",
   "id": "c8f4570b",
   "metadata": {},
   "source": [
    "## Astroquery search"
   ]
  },
  {
   "cell_type": "markdown",
   "id": "76331fc3",
   "metadata": {},
   "source": [
    "### Target Parameters"
   ]
  },
  {
   "cell_type": "code",
   "execution_count": 40,
   "id": "aa343e56",
   "metadata": {},
   "outputs": [],
   "source": [
    "target_name = \"M3\"\n",
    "\"HD 209458\"\n",
    "search_radius_deg = 0.4"
   ]
  },
  {
   "cell_type": "markdown",
   "id": "84a1e830",
   "metadata": {},
   "source": [
    "### Query MAST archive"
   ]
  },
  {
   "cell_type": "code",
   "execution_count": 41,
   "id": "55d893d8",
   "metadata": {
    "scrolled": false
   },
   "outputs": [
    {
     "data": {
      "text/html": [
       "<div><i>Table masked=True length=38275</i>\n",
       "<table id=\"table1772737310336\" class=\"table-striped table-bordered table-condensed\">\n",
       "<thead><tr><th>ID</th><th>ra</th><th>dec</th><th>pmRA</th><th>pmDEC</th><th>Tmag</th><th>objType</th><th>typeSrc</th><th>version</th><th>HIP</th><th>TYC</th><th>UCAC</th><th>TWOMASS</th><th>SDSS</th><th>ALLWISE</th><th>GAIA</th><th>APASS</th><th>KIC</th><th>POSflag</th><th>e_pmRA</th><th>e_pmDEC</th><th>PMflag</th><th>plx</th><th>e_plx</th><th>PARflag</th><th>gallong</th><th>gallat</th><th>eclong</th><th>eclat</th><th>Bmag</th><th>e_Bmag</th><th>Vmag</th><th>e_Vmag</th><th>umag</th><th>e_umag</th><th>gmag</th><th>e_gmag</th><th>rmag</th><th>e_rmag</th><th>imag</th><th>e_imag</th><th>zmag</th><th>e_zmag</th><th>Jmag</th><th>e_Jmag</th><th>Hmag</th><th>e_Hmag</th><th>Kmag</th><th>e_Kmag</th><th>TWOMflag</th><th>prox</th><th>w1mag</th><th>e_w1mag</th><th>w2mag</th><th>e_w2mag</th><th>w3mag</th><th>e_w3mag</th><th>w4mag</th><th>e_w4mag</th><th>GAIAmag</th><th>e_GAIAmag</th><th>e_Tmag</th><th>TESSflag</th><th>SPFlag</th><th>Teff</th><th>e_Teff</th><th>logg</th><th>e_logg</th><th>MH</th><th>e_MH</th><th>rad</th><th>e_rad</th><th>mass</th><th>e_mass</th><th>rho</th><th>e_rho</th><th>lumclass</th><th>lum</th><th>e_lum</th><th>d</th><th>e_d</th><th>ebv</th><th>e_ebv</th><th>numcont</th><th>contratio</th><th>disposition</th><th>duplicate_id</th><th>priority</th><th>eneg_EBV</th><th>epos_EBV</th><th>EBVflag</th><th>eneg_Mass</th><th>epos_Mass</th><th>eneg_Rad</th><th>epos_Rad</th><th>eneg_rho</th><th>epos_rho</th><th>eneg_logg</th><th>epos_logg</th><th>eneg_lum</th><th>epos_lum</th><th>eneg_dist</th><th>epos_dist</th><th>distflag</th><th>eneg_Teff</th><th>epos_Teff</th><th>TeffFlag</th><th>gaiabp</th><th>e_gaiabp</th><th>gaiarp</th><th>e_gaiarp</th><th>gaiaqflag</th><th>starchareFlag</th><th>VmagFlag</th><th>BmagFlag</th><th>splists</th><th>e_RA</th><th>e_Dec</th><th>RA_orig</th><th>Dec_orig</th><th>e_RA_orig</th><th>e_Dec_orig</th><th>raddflag</th><th>wdflag</th><th>dstArcSec</th></tr></thead>\n",
       "<thead><tr><th>str11</th><th>float64</th><th>float64</th><th>float64</th><th>float64</th><th>float64</th><th>str8</th><th>str7</th><th>str8</th><th>str5</th><th>str12</th><th>str10</th><th>str16</th><th>str19</th><th>str19</th><th>str19</th><th>str8</th><th>str5</th><th>str8</th><th>float64</th><th>float64</th><th>str6</th><th>float64</th><th>float64</th><th>str5</th><th>float64</th><th>float64</th><th>float64</th><th>float64</th><th>float64</th><th>float64</th><th>float64</th><th>float64</th><th>float64</th><th>float64</th><th>float64</th><th>float64</th><th>float64</th><th>float64</th><th>float64</th><th>float64</th><th>float64</th><th>float64</th><th>float64</th><th>float64</th><th>float64</th><th>float64</th><th>float64</th><th>float64</th><th>str19</th><th>float64</th><th>float64</th><th>float64</th><th>float64</th><th>float64</th><th>float64</th><th>float64</th><th>float64</th><th>float64</th><th>float64</th><th>float64</th><th>float64</th><th>str5</th><th>str5</th><th>float64</th><th>float64</th><th>float64</th><th>float64</th><th>float64</th><th>float64</th><th>float64</th><th>float64</th><th>float64</th><th>float64</th><th>float64</th><th>float64</th><th>str5</th><th>float64</th><th>float64</th><th>float64</th><th>float64</th><th>float64</th><th>float64</th><th>int64</th><th>float64</th><th>str9</th><th>str11</th><th>float64</th><th>float64</th><th>float64</th><th>str9</th><th>float64</th><th>float64</th><th>float64</th><th>float64</th><th>float64</th><th>float64</th><th>float64</th><th>float64</th><th>float64</th><th>float64</th><th>float64</th><th>float64</th><th>str6</th><th>float64</th><th>float64</th><th>str5</th><th>float64</th><th>float64</th><th>float64</th><th>float64</th><th>int64</th><th>str1</th><th>str8</th><th>str8</th><th>str15</th><th>float64</th><th>float64</th><th>float64</th><th>float64</th><th>float64</th><th>float64</th><th>int64</th><th>int64</th><th>float64</th></tr></thead>\n",
       "<tr><td>1000665275</td><td>205.547031693134</td><td>28.375748354966</td><td>-1.60043</td><td>-2.83991</td><td>14.1276</td><td>STAR</td><td>gaia2</td><td>20190415</td><td>--</td><td>--</td><td>--</td><td>--</td><td>--</td><td>--</td><td>1454784386131003008</td><td>--</td><td>--</td><td>gaia2</td><td>0.361294</td><td>0.206769</td><td>gaia2</td><td>0.772975</td><td>0.231196</td><td>gaia2</td><td>42.2095175045687</td><td>78.708155443417</td><td>191.331907511627</td><td>35.9420291302358</td><td>nan</td><td>nan</td><td>14.5706</td><td>0.0462</td><td>nan</td><td>nan</td><td>nan</td><td>nan</td><td>nan</td><td>nan</td><td>nan</td><td>nan</td><td>nan</td><td>nan</td><td>nan</td><td>nan</td><td>nan</td><td>nan</td><td>nan</td><td>nan</td><td>--</td><td>nan</td><td>nan</td><td>nan</td><td>nan</td><td>nan</td><td>nan</td><td>nan</td><td>nan</td><td>nan</td><td>14.474</td><td>0.003602</td><td>0.0096</td><td>gbprp</td><td>gaia2</td><td>nan</td><td>nan</td><td>nan</td><td>nan</td><td>nan</td><td>nan</td><td>nan</td><td>nan</td><td>nan</td><td>nan</td><td>nan</td><td>nan</td><td>--</td><td>nan</td><td>nan</td><td>1201.13</td><td>361.84</td><td>0.00876928</td><td>0.00234056</td><td>--</td><td>nan</td><td>--</td><td>--</td><td>nan</td><td>0.00273868</td><td>0.00194244</td><td>panstarrs</td><td>nan</td><td>nan</td><td>nan</td><td>nan</td><td>nan</td><td>nan</td><td>nan</td><td>nan</td><td>nan</td><td>nan</td><td>273.119</td><td>450.56</td><td>bj2018</td><td>nan</td><td>nan</td><td>--</td><td>14.0089</td><td>0.019071</td><td>13.3531</td><td>0.006656</td><td>0</td><td>--</td><td>gaia2</td><td>--</td><td>--</td><td>5.77870612856294</td><td>3.20761660227535</td><td>205.547023861411</td><td>28.3757361275758</td><td>0.168501205644516</td><td>0.131511466086477</td><td>1</td><td>0</td><td>1.3376162312536146</td></tr>\n",
       "<tr><td>1000665468</td><td>205.546610795332</td><td>28.3751091680569</td><td>0.632576</td><td>-3.13558</td><td>14.5938</td><td>STAR</td><td>gaia2</td><td>20190415</td><td>--</td><td>--</td><td>--</td><td>--</td><td>--</td><td>--</td><td>1454784386135648256</td><td>--</td><td>--</td><td>gaia2</td><td>0.319944</td><td>0.142819</td><td>gaia2</td><td>-0.456519</td><td>0.171315</td><td>gaia2</td><td>42.2063691266316</td><td>78.7085624780539</td><td>191.331847463857</td><td>35.9412920147538</td><td>nan</td><td>nan</td><td>nan</td><td>nan</td><td>nan</td><td>nan</td><td>nan</td><td>nan</td><td>nan</td><td>nan</td><td>nan</td><td>nan</td><td>nan</td><td>nan</td><td>nan</td><td>nan</td><td>nan</td><td>nan</td><td>nan</td><td>nan</td><td>--</td><td>nan</td><td>nan</td><td>nan</td><td>nan</td><td>nan</td><td>nan</td><td>nan</td><td>nan</td><td>nan</td><td>15.0238</td><td>0.003514</td><td>0.6</td><td>goffs</td><td>gaia2</td><td>nan</td><td>nan</td><td>nan</td><td>nan</td><td>nan</td><td>nan</td><td>nan</td><td>nan</td><td>nan</td><td>nan</td><td>nan</td><td>nan</td><td>--</td><td>nan</td><td>nan</td><td>3884.51</td><td>1008.99</td><td>0.00876928</td><td>0.002341185</td><td>--</td><td>nan</td><td>--</td><td>--</td><td>nan</td><td>0.00273863</td><td>0.00194374</td><td>panstarrs</td><td>nan</td><td>nan</td><td>nan</td><td>nan</td><td>nan</td><td>nan</td><td>nan</td><td>nan</td><td>nan</td><td>nan</td><td>870.17</td><td>1147.81</td><td>bj2018</td><td>nan</td><td>nan</td><td>--</td><td>nan</td><td>0.0</td><td>nan</td><td>0.0</td><td>-1</td><td>--</td><td>--</td><td>--</td><td>--</td><td>5.11693552069728</td><td>2.21526495363749</td><td>205.546613890832</td><td>28.3750956676429</td><td>0.135115194554173</td><td>0.0833994933092637</td><td>-1</td><td>-1</td><td>1.338940059887551</td></tr>\n",
       "<tr><td>1000665257</td><td>205.547119284775</td><td>28.3750712761933</td><td>2.19412</td><td>-1.1561</td><td>15.0831</td><td>STAR</td><td>gaia2</td><td>20190415</td><td>--</td><td>--</td><td>--</td><td>--</td><td>--</td><td>--</td><td>1454784386130686080</td><td>--</td><td>--</td><td>gaia2</td><td>0.970209</td><td>0.53951</td><td>gaia2</td><td>-1.56507</td><td>0.449132</td><td>gaia2</td><td>42.2060425277875</td><td>78.7081180565451</td><td>191.332363554127</td><td>35.9414563712964</td><td>nan</td><td>nan</td><td>nan</td><td>nan</td><td>nan</td><td>nan</td><td>nan</td><td>nan</td><td>nan</td><td>nan</td><td>nan</td><td>nan</td><td>nan</td><td>nan</td><td>nan</td><td>nan</td><td>nan</td><td>nan</td><td>nan</td><td>nan</td><td>--</td><td>nan</td><td>nan</td><td>nan</td><td>nan</td><td>nan</td><td>nan</td><td>nan</td><td>nan</td><td>nan</td><td>15.5131</td><td>0.011214</td><td>0.6</td><td>goffs</td><td>gaia2</td><td>nan</td><td>nan</td><td>nan</td><td>nan</td><td>nan</td><td>nan</td><td>nan</td><td>nan</td><td>nan</td><td>nan</td><td>nan</td><td>nan</td><td>--</td><td>nan</td><td>nan</td><td>2681.85</td><td>900.8</td><td>0.00876928</td><td>0.002341185</td><td>--</td><td>nan</td><td>--</td><td>--</td><td>nan</td><td>0.00273863</td><td>0.00194374</td><td>panstarrs</td><td>nan</td><td>nan</td><td>nan</td><td>nan</td><td>nan</td><td>nan</td><td>nan</td><td>nan</td><td>nan</td><td>nan</td><td>755.21</td><td>1046.39</td><td>bj2018</td><td>nan</td><td>nan</td><td>--</td><td>nan</td><td>0.0</td><td>nan</td><td>0.0</td><td>-1</td><td>--</td><td>--</td><td>--</td><td>--</td><td>15.5249935734531</td><td>8.37130721869534</td><td>205.547130021659</td><td>28.3750662985409</td><td>0.650323223989268</td><td>0.385962648135437</td><td>-1</td><td>-1</td><td>1.736030788564618</td></tr>\n",
       "<tr><td>1000665469</td><td>205.546199841483</td><td>28.3750814788638</td><td>nan</td><td>nan</td><td>16.0294</td><td>STAR</td><td>gaia2</td><td>20190415</td><td>--</td><td>--</td><td>--</td><td>--</td><td>--</td><td>--</td><td>1454784386135648512</td><td>--</td><td>--</td><td>gaia2</td><td>nan</td><td>nan</td><td>--</td><td>nan</td><td>nan</td><td>--</td><td>42.2063430188652</td><td>78.7089265177553</td><td>191.331474904552</td><td>35.9411070840351</td><td>nan</td><td>nan</td><td>nan</td><td>nan</td><td>nan</td><td>nan</td><td>nan</td><td>nan</td><td>nan</td><td>nan</td><td>nan</td><td>nan</td><td>nan</td><td>nan</td><td>nan</td><td>nan</td><td>nan</td><td>nan</td><td>nan</td><td>nan</td><td>--</td><td>nan</td><td>nan</td><td>nan</td><td>nan</td><td>nan</td><td>nan</td><td>nan</td><td>nan</td><td>nan</td><td>16.4594</td><td>0.013974</td><td>0.6</td><td>goffs</td><td>--</td><td>nan</td><td>nan</td><td>nan</td><td>nan</td><td>nan</td><td>nan</td><td>nan</td><td>nan</td><td>nan</td><td>nan</td><td>nan</td><td>nan</td><td>--</td><td>nan</td><td>nan</td><td>nan</td><td>nan</td><td>nan</td><td>nan</td><td>--</td><td>nan</td><td>--</td><td>--</td><td>nan</td><td>nan</td><td>nan</td><td>--</td><td>nan</td><td>nan</td><td>nan</td><td>nan</td><td>nan</td><td>nan</td><td>nan</td><td>nan</td><td>nan</td><td>nan</td><td>nan</td><td>nan</td><td>--</td><td>nan</td><td>nan</td><td>--</td><td>nan</td><td>0.0</td><td>nan</td><td>0.0</td><td>-1</td><td>--</td><td>--</td><td>--</td><td>--</td><td>1.1515034912542</td><td>1.46250004006805</td><td>205.546199841483</td><td>28.3750814788638</td><td>1.1515034912542</td><td>1.46250004006805</td><td>-1</td><td>-1</td><td>2.2664903914244605</td></tr>\n",
       "<tr><td>1000665549</td><td>205.546759393709</td><td>28.376136814289</td><td>1.07066</td><td>-1.82761</td><td>15.0219</td><td>STAR</td><td>gaia2</td><td>20190415</td><td>--</td><td>--</td><td>--</td><td>--</td><td>--</td><td>--</td><td>1454784386135767808</td><td>--</td><td>--</td><td>gaia2</td><td>0.910546</td><td>0.623232</td><td>gaia2</td><td>0.414269</td><td>0.341958</td><td>gaia2</td><td>42.2115695543292</td><td>78.7083719063626</td><td>191.331429559553</td><td>35.942271134857</td><td>nan</td><td>nan</td><td>nan</td><td>nan</td><td>nan</td><td>nan</td><td>nan</td><td>nan</td><td>nan</td><td>nan</td><td>nan</td><td>nan</td><td>nan</td><td>nan</td><td>nan</td><td>nan</td><td>nan</td><td>nan</td><td>nan</td><td>nan</td><td>--</td><td>nan</td><td>nan</td><td>nan</td><td>nan</td><td>nan</td><td>nan</td><td>nan</td><td>nan</td><td>nan</td><td>15.4519</td><td>0.010371</td><td>0.6</td><td>goffs</td><td>gaia2</td><td>nan</td><td>nan</td><td>nan</td><td>nan</td><td>nan</td><td>nan</td><td>nan</td><td>nan</td><td>nan</td><td>nan</td><td>nan</td><td>nan</td><td>--</td><td>nan</td><td>nan</td><td>1534.12</td><td>625.225</td><td>0.00876928</td><td>0.002341185</td><td>--</td><td>nan</td><td>--</td><td>--</td><td>nan</td><td>0.00273863</td><td>0.00194374</td><td>panstarrs</td><td>nan</td><td>nan</td><td>nan</td><td>nan</td><td>nan</td><td>nan</td><td>nan</td><td>nan</td><td>nan</td><td>nan</td><td>465.86</td><td>784.59</td><td>bj2018</td><td>nan</td><td>nan</td><td>--</td><td>nan</td><td>0.0</td><td>nan</td><td>0.0</td><td>-1</td><td>--</td><td>--</td><td>--</td><td>--</td><td>14.5598677959538</td><td>9.66335476465831</td><td>205.546764633016</td><td>28.3761289454126</td><td>0.260731814580555</td><td>0.25093939194251</td><td>-1</td><td>-1</td><td>2.4733927790290418</td></tr>\n",
       "<tr><td>416606921</td><td>205.546485</td><td>28.374798</td><td>nan</td><td>nan</td><td>12.581</td><td>STAR</td><td>tmmgaia</td><td>20190415</td><td>--</td><td>--</td><td>--</td><td>13421115+2822292</td><td>--</td><td>--</td><td>--</td><td>--</td><td>--</td><td>tmmgaia</td><td>nan</td><td>nan</td><td>--</td><td>nan</td><td>nan</td><td>--</td><td>42.204823</td><td>78.708693</td><td>191.331886</td><td>35.94096</td><td>nan</td><td>nan</td><td>nan</td><td>nan</td><td>nan</td><td>nan</td><td>nan</td><td>nan</td><td>nan</td><td>nan</td><td>nan</td><td>nan</td><td>nan</td><td>nan</td><td>11.916</td><td>0.071</td><td>11.649</td><td>0.117</td><td>11.539</td><td>0.089</td><td>EEE-222-111-000-0-0</td><td>nan</td><td>nan</td><td>nan</td><td>nan</td><td>nan</td><td>nan</td><td>nan</td><td>nan</td><td>nan</td><td>nan</td><td>nan</td><td>0.6</td><td>gaiao</td><td>--</td><td>nan</td><td>nan</td><td>nan</td><td>nan</td><td>nan</td><td>nan</td><td>nan</td><td>nan</td><td>nan</td><td>nan</td><td>nan</td><td>nan</td><td>--</td><td>nan</td><td>nan</td><td>nan</td><td>nan</td><td>nan</td><td>nan</td><td>--</td><td>nan</td><td>--</td><td>--</td><td>nan</td><td>nan</td><td>nan</td><td>--</td><td>nan</td><td>nan</td><td>nan</td><td>nan</td><td>nan</td><td>nan</td><td>nan</td><td>nan</td><td>nan</td><td>nan</td><td>nan</td><td>nan</td><td>--</td><td>nan</td><td>nan</td><td>--</td><td>nan</td><td>nan</td><td>nan</td><td>nan</td><td>--</td><td>--</td><td>--</td><td>--</td><td>--</td><td>1658.172</td><td>1658.172</td><td>205.546155</td><td>28.37478</td><td>1658.172</td><td>1658.172</td><td>--</td><td>0</td><td>2.526353580487141</td></tr>\n",
       "<tr><td>1000665298</td><td>205.54599008957</td><td>28.3756726963824</td><td>-0.706406</td><td>-3.24135</td><td>13.9419</td><td>STAR</td><td>gaia2</td><td>20190415</td><td>--</td><td>--</td><td>--</td><td>--</td><td>--</td><td>--</td><td>1454784386131229824</td><td>--</td><td>--</td><td>gaia2</td><td>0.198625</td><td>0.100838</td><td>gaia2</td><td>-0.110693</td><td>0.109389</td><td>gaia2</td><td>42.2094053127674</td><td>78.7090747537503</td><td>191.330934263489</td><td>35.9415550617964</td><td>nan</td><td>nan</td><td>14.499</td><td>0.0484</td><td>nan</td><td>nan</td><td>nan</td><td>nan</td><td>nan</td><td>nan</td><td>nan</td><td>nan</td><td>nan</td><td>nan</td><td>nan</td><td>nan</td><td>nan</td><td>nan</td><td>nan</td><td>nan</td><td>--</td><td>nan</td><td>nan</td><td>nan</td><td>nan</td><td>nan</td><td>nan</td><td>nan</td><td>nan</td><td>nan</td><td>14.364</td><td>0.002062</td><td>0.0069</td><td>gbprp</td><td>gaia2</td><td>nan</td><td>nan</td><td>nan</td><td>nan</td><td>nan</td><td>nan</td><td>nan</td><td>nan</td><td>nan</td><td>nan</td><td>nan</td><td>nan</td><td>--</td><td>nan</td><td>nan</td><td>4137.95</td><td>971.78</td><td>0.00876928</td><td>0.002341185</td><td>--</td><td>nan</td><td>--</td><td>--</td><td>nan</td><td>0.00273863</td><td>0.00194374</td><td>panstarrs</td><td>nan</td><td>nan</td><td>nan</td><td>nan</td><td>nan</td><td>nan</td><td>nan</td><td>nan</td><td>nan</td><td>nan</td><td>838.55</td><td>1105.01</td><td>bj2018</td><td>nan</td><td>nan</td><td>--</td><td>13.8615</td><td>0.040787</td><td>13.0579</td><td>0.035475</td><td>0</td><td>--</td><td>gaia2</td><td>--</td><td>--</td><td>3.17653895639824</td><td>1.56420300188586</td><td>205.545986632766</td><td>28.3756587405698</td><td>0.079258911319343</td><td>0.0616150711086851</td><td>0</td><td>0</td><td>2.6273191595523895</td></tr>\n",
       "<tr><td>1000665712</td><td>205.547251019728</td><td>28.3748287099581</td><td>0.423525</td><td>-0.867134</td><td>14.7895</td><td>STAR</td><td>gaia2</td><td>20190415</td><td>--</td><td>--</td><td>--</td><td>--</td><td>--</td><td>--</td><td>1454784386135991680</td><td>--</td><td>--</td><td>gaia2</td><td>0.810173</td><td>0.460333</td><td>gaia2</td><td>-2.69299</td><td>0.508036</td><td>gaia2</td><td>42.204771292023</td><td>78.7080165049548</td><td>191.33262469256</td><td>35.9412903183372</td><td>nan</td><td>nan</td><td>nan</td><td>nan</td><td>nan</td><td>nan</td><td>nan</td><td>nan</td><td>nan</td><td>nan</td><td>nan</td><td>nan</td><td>nan</td><td>nan</td><td>nan</td><td>nan</td><td>nan</td><td>nan</td><td>nan</td><td>nan</td><td>--</td><td>nan</td><td>nan</td><td>nan</td><td>nan</td><td>nan</td><td>nan</td><td>nan</td><td>nan</td><td>nan</td><td>15.2195</td><td>0.007173</td><td>0.6</td><td>goffs</td><td>gaia2</td><td>nan</td><td>nan</td><td>nan</td><td>nan</td><td>nan</td><td>nan</td><td>nan</td><td>nan</td><td>nan</td><td>nan</td><td>nan</td><td>nan</td><td>--</td><td>nan</td><td>nan</td><td>2911.51</td><td>943.105</td><td>0.00876928</td><td>0.002341185</td><td>--</td><td>nan</td><td>--</td><td>--</td><td>nan</td><td>0.00273863</td><td>0.00194374</td><td>panstarrs</td><td>nan</td><td>nan</td><td>nan</td><td>nan</td><td>nan</td><td>nan</td><td>nan</td><td>nan</td><td>nan</td><td>nan</td><td>799.0</td><td>1087.21</td><td>bj2018</td><td>nan</td><td>nan</td><td>--</td><td>nan</td><td>0.0</td><td>nan</td><td>0.0</td><td>-1</td><td>--</td><td>--</td><td>--</td><td>--</td><td>12.9575991793055</td><td>7.14052593254856</td><td>205.547253092235</td><td>28.3748249764645</td><td>0.354200157900484</td><td>0.276732654951071</td><td>-1</td><td>-1</td><td>2.6885823650406953</td></tr>\n",
       "<tr><td>1000665401</td><td>205.54687955567</td><td>28.3746814458742</td><td>nan</td><td>nan</td><td>16.3095</td><td>STAR</td><td>gaia2</td><td>20190415</td><td>--</td><td>--</td><td>--</td><td>--</td><td>--</td><td>--</td><td>1454784386135577856</td><td>--</td><td>--</td><td>gaia2</td><td>nan</td><td>nan</td><td>--</td><td>nan</td><td>nan</td><td>--</td><td>42.2041251201753</td><td>78.7083528372275</td><td>191.332356069315</td><td>35.9410136048691</td><td>nan</td><td>nan</td><td>nan</td><td>nan</td><td>nan</td><td>nan</td><td>nan</td><td>nan</td><td>nan</td><td>nan</td><td>nan</td><td>nan</td><td>nan</td><td>nan</td><td>nan</td><td>nan</td><td>nan</td><td>nan</td><td>nan</td><td>nan</td><td>--</td><td>nan</td><td>nan</td><td>nan</td><td>nan</td><td>nan</td><td>nan</td><td>nan</td><td>nan</td><td>nan</td><td>16.7395</td><td>0.029636</td><td>0.6</td><td>goffs</td><td>--</td><td>nan</td><td>nan</td><td>nan</td><td>nan</td><td>nan</td><td>nan</td><td>nan</td><td>nan</td><td>nan</td><td>nan</td><td>nan</td><td>nan</td><td>--</td><td>nan</td><td>nan</td><td>nan</td><td>nan</td><td>nan</td><td>nan</td><td>--</td><td>nan</td><td>--</td><td>--</td><td>nan</td><td>nan</td><td>nan</td><td>--</td><td>nan</td><td>nan</td><td>nan</td><td>nan</td><td>nan</td><td>nan</td><td>nan</td><td>nan</td><td>nan</td><td>nan</td><td>nan</td><td>nan</td><td>--</td><td>nan</td><td>nan</td><td>--</td><td>nan</td><td>0.0</td><td>nan</td><td>0.0</td><td>-1</td><td>--</td><td>--</td><td>--</td><td>--</td><td>55.2557586115915</td><td>41.4034706877023</td><td>205.54687955567</td><td>28.3746814458742</td><td>55.2557586115915</td><td>41.4034706877023</td><td>-1</td><td>-1</td><td>2.7847070634971516</td></tr>\n",
       "<tr><td>1000665550</td><td>205.547495674139</td><td>28.3760034333473</td><td>nan</td><td>nan</td><td>16.4138</td><td>STAR</td><td>gaia2</td><td>20190415</td><td>--</td><td>--</td><td>--</td><td>--</td><td>--</td><td>--</td><td>1454784386135767936</td><td>--</td><td>--</td><td>gaia2</td><td>nan</td><td>nan</td><td>--</td><td>nan</td><td>nan</td><td>--</td><td>42.2107033343094</td><td>78.7077344586809</td><td>191.332232445043</td><td>35.9424389114868</td><td>nan</td><td>nan</td><td>nan</td><td>nan</td><td>nan</td><td>nan</td><td>nan</td><td>nan</td><td>nan</td><td>nan</td><td>nan</td><td>nan</td><td>nan</td><td>nan</td><td>nan</td><td>nan</td><td>nan</td><td>nan</td><td>nan</td><td>nan</td><td>--</td><td>nan</td><td>nan</td><td>nan</td><td>nan</td><td>nan</td><td>nan</td><td>nan</td><td>nan</td><td>nan</td><td>16.8438</td><td>0.0203</td><td>0.6</td><td>goffs</td><td>--</td><td>nan</td><td>nan</td><td>nan</td><td>nan</td><td>nan</td><td>nan</td><td>nan</td><td>nan</td><td>nan</td><td>nan</td><td>nan</td><td>nan</td><td>--</td><td>nan</td><td>nan</td><td>nan</td><td>nan</td><td>nan</td><td>nan</td><td>--</td><td>nan</td><td>--</td><td>--</td><td>nan</td><td>nan</td><td>nan</td><td>--</td><td>nan</td><td>nan</td><td>nan</td><td>nan</td><td>nan</td><td>nan</td><td>nan</td><td>nan</td><td>nan</td><td>nan</td><td>nan</td><td>nan</td><td>--</td><td>nan</td><td>nan</td><td>--</td><td>nan</td><td>0.0</td><td>nan</td><td>0.0</td><td>-1</td><td>--</td><td>--</td><td>--</td><td>--</td><td>7.5561610619709</td><td>4.07093485895867</td><td>205.547495674139</td><td>28.3760034333473</td><td>7.5561610619709</td><td>4.07093485895867</td><td>-1</td><td>-1</td><td>3.017978541601051</td></tr>\n",
       "<tr><td>...</td><td>...</td><td>...</td><td>...</td><td>...</td><td>...</td><td>...</td><td>...</td><td>...</td><td>...</td><td>...</td><td>...</td><td>...</td><td>...</td><td>...</td><td>...</td><td>...</td><td>...</td><td>...</td><td>...</td><td>...</td><td>...</td><td>...</td><td>...</td><td>...</td><td>...</td><td>...</td><td>...</td><td>...</td><td>...</td><td>...</td><td>...</td><td>...</td><td>...</td><td>...</td><td>...</td><td>...</td><td>...</td><td>...</td><td>...</td><td>...</td><td>...</td><td>...</td><td>...</td><td>...</td><td>...</td><td>...</td><td>...</td><td>...</td><td>...</td><td>...</td><td>...</td><td>...</td><td>...</td><td>...</td><td>...</td><td>...</td><td>...</td><td>...</td><td>...</td><td>...</td><td>...</td><td>...</td><td>...</td><td>...</td><td>...</td><td>...</td><td>...</td><td>...</td><td>...</td><td>...</td><td>...</td><td>...</td><td>...</td><td>...</td><td>...</td><td>...</td><td>...</td><td>...</td><td>...</td><td>...</td><td>...</td><td>...</td><td>...</td><td>...</td><td>...</td><td>...</td><td>...</td><td>...</td><td>...</td><td>...</td><td>...</td><td>...</td><td>...</td><td>...</td><td>...</td><td>...</td><td>...</td><td>...</td><td>...</td><td>...</td><td>...</td><td>...</td><td>...</td><td>...</td><td>...</td><td>...</td><td>...</td><td>...</td><td>...</td><td>...</td><td>...</td><td>...</td><td>...</td><td>...</td><td>...</td><td>...</td><td>...</td><td>...</td><td>...</td><td>...</td><td>...</td><td>...</td><td>...</td><td>...</td></tr>\n",
       "<tr><td>1000673973</td><td>206.065433340712</td><td>28.1748472791642</td><td>nan</td><td>nan</td><td>20.7273</td><td>STAR</td><td>gaia2</td><td>20190415</td><td>--</td><td>--</td><td>--</td><td>--</td><td>1237665428630930085</td><td>--</td><td>1454810563957121792</td><td>--</td><td>--</td><td>gaia2</td><td>nan</td><td>nan</td><td>--</td><td>nan</td><td>nan</td><td>--</td><td>41.097201946021</td><td>78.2614925647629</td><td>191.947508521819</td><td>35.9638224630267</td><td>nan</td><td>nan</td><td>nan</td><td>nan</td><td>23.6796</td><td>0.83394</td><td>22.9912</td><td>0.181449</td><td>21.684</td><td>0.0858238</td><td>20.3732</td><td>0.0436182</td><td>19.4475</td><td>0.0787719</td><td>nan</td><td>nan</td><td>nan</td><td>nan</td><td>nan</td><td>nan</td><td>--</td><td>nan</td><td>nan</td><td>nan</td><td>nan</td><td>nan</td><td>nan</td><td>nan</td><td>nan</td><td>nan</td><td>21.1573</td><td>0.0243</td><td>0.6</td><td>goffs</td><td>--</td><td>nan</td><td>nan</td><td>nan</td><td>nan</td><td>nan</td><td>nan</td><td>nan</td><td>nan</td><td>nan</td><td>nan</td><td>nan</td><td>nan</td><td>--</td><td>nan</td><td>nan</td><td>nan</td><td>nan</td><td>nan</td><td>nan</td><td>--</td><td>nan</td><td>--</td><td>--</td><td>nan</td><td>nan</td><td>nan</td><td>--</td><td>nan</td><td>nan</td><td>nan</td><td>nan</td><td>nan</td><td>nan</td><td>nan</td><td>nan</td><td>nan</td><td>nan</td><td>nan</td><td>nan</td><td>--</td><td>nan</td><td>nan</td><td>--</td><td>nan</td><td>0.0</td><td>nan</td><td>0.0</td><td>-1</td><td>--</td><td>--</td><td>--</td><td>--</td><td>3.6713469259636</td><td>2.48416839906469</td><td>206.065433340712</td><td>28.1748472791642</td><td>3.6713469259636</td><td>2.48416839906469</td><td>-1</td><td>-1</td><td>1795.9590383396783</td></tr>\n",
       "<tr><td>1000687618</td><td>205.69459188671</td><td>28.8572335127489</td><td>-3.12219</td><td>-3.99099</td><td>20.6603</td><td>STAR</td><td>gaia2</td><td>20190415</td><td>--</td><td>--</td><td>--</td><td>--</td><td>1237665442593636569</td><td>--</td><td>1454907393994305792</td><td>--</td><td>--</td><td>gaia2</td><td>3.1567</td><td>3.35979</td><td>gaia2</td><td>-1.19484</td><td>1.61764</td><td>gaia2</td><td>44.5920673994482</td><td>78.5413470319309</td><td>191.210574470155</td><td>36.4309231594547</td><td>nan</td><td>nan</td><td>20.9103</td><td>0.0648</td><td>21.7235</td><td>0.162843</td><td>21.2903</td><td>0.0504039</td><td>21.1037</td><td>0.0540932</td><td>20.8895</td><td>0.0731615</td><td>21.1368</td><td>0.31842</td><td>nan</td><td>nan</td><td>nan</td><td>nan</td><td>nan</td><td>nan</td><td>--</td><td>nan</td><td>nan</td><td>nan</td><td>nan</td><td>nan</td><td>nan</td><td>nan</td><td>nan</td><td>nan</td><td>20.8633</td><td>0.020349</td><td>0.0271</td><td>gbprp</td><td>gaia2</td><td>nan</td><td>nan</td><td>nan</td><td>nan</td><td>nan</td><td>nan</td><td>nan</td><td>nan</td><td>nan</td><td>nan</td><td>nan</td><td>nan</td><td>--</td><td>nan</td><td>nan</td><td>1258.34</td><td>729.21</td><td>0.0179408</td><td>0.003990745</td><td>--</td><td>nan</td><td>--</td><td>--</td><td>nan</td><td>0.00406627</td><td>0.00391522</td><td>panstarrs</td><td>nan</td><td>nan</td><td>nan</td><td>nan</td><td>nan</td><td>nan</td><td>nan</td><td>nan</td><td>nan</td><td>nan</td><td>554.73</td><td>903.69</td><td>bj2018</td><td>nan</td><td>nan</td><td>--</td><td>20.8486</td><td>0.217042</td><td>20.4561</td><td>0.18732</td><td>0</td><td>--</td><td>gaia2</td><td>--</td><td>--</td><td>50.535930617915</td><td>52.0858890835091</td><td>205.694576538025</td><td>28.8572163293205</td><td>1.10626807929765</td><td>0.975946629989009</td><td>1</td><td>1</td><td>1796.2225794049232</td></tr>\n",
       "<tr><td>159201662</td><td>204.980162</td><td>28.397665</td><td>nan</td><td>nan</td><td>15.547</td><td>STAR</td><td>2mass</td><td>20190415</td><td>--</td><td>--</td><td>--</td><td>13395523+2823515</td><td>--</td><td>--</td><td>--</td><td>--</td><td>--</td><td>2mass</td><td>nan</td><td>nan</td><td>--</td><td>nan</td><td>nan</td><td>--</td><td>42.488171</td><td>79.204486</td><td>190.768589</td><td>35.740359</td><td>nan</td><td>nan</td><td>nan</td><td>nan</td><td>nan</td><td>nan</td><td>nan</td><td>nan</td><td>nan</td><td>nan</td><td>nan</td><td>nan</td><td>nan</td><td>nan</td><td>15.047</td><td>0.143</td><td>13.329</td><td>nan</td><td>12.947</td><td>nan</td><td>BUU-266-200-c00-2-0</td><td>nan</td><td>nan</td><td>nan</td><td>nan</td><td>nan</td><td>nan</td><td>nan</td><td>nan</td><td>nan</td><td>nan</td><td>nan</td><td>0.8</td><td>joffs</td><td>--</td><td>nan</td><td>nan</td><td>nan</td><td>nan</td><td>nan</td><td>nan</td><td>nan</td><td>nan</td><td>nan</td><td>nan</td><td>nan</td><td>nan</td><td>--</td><td>nan</td><td>nan</td><td>nan</td><td>nan</td><td>nan</td><td>nan</td><td>--</td><td>nan</td><td>--</td><td>--</td><td>nan</td><td>nan</td><td>nan</td><td>--</td><td>nan</td><td>nan</td><td>nan</td><td>nan</td><td>nan</td><td>nan</td><td>nan</td><td>nan</td><td>nan</td><td>nan</td><td>nan</td><td>nan</td><td>--</td><td>nan</td><td>nan</td><td>--</td><td>nan</td><td>nan</td><td>nan</td><td>nan</td><td>--</td><td>--</td><td>--</td><td>--</td><td>--</td><td>151.834</td><td>158.26</td><td>204.980162</td><td>28.397665</td><td>151.834</td><td>158.26</td><td>--</td><td>0</td><td>1796.3360021078388</td></tr>\n",
       "<tr><td>1000653043</td><td>205.200286484915</td><td>27.9807692965109</td><td>-0.354548</td><td>-1.65539</td><td>20.0562</td><td>STAR</td><td>gaia2</td><td>20190415</td><td>--</td><td>--</td><td>--</td><td>--</td><td>1237665428093796627</td><td>--</td><td>1454745967646737408</td><td>--</td><td>--</td><td>gaia2</td><td>2.39393</td><td>2.09924</td><td>gaia2</td><td>0.275633</td><td>0.889969</td><td>gaia2</td><td>40.2333292914498</td><td>79.0305428591254</td><td>191.209649678702</td><td>35.4525683800893</td><td>nan</td><td>nan</td><td>20.5382</td><td>0.0563</td><td>21.8057</td><td>0.169284</td><td>20.6463</td><td>0.0264505</td><td>20.3834</td><td>0.0284524</td><td>20.3485</td><td>0.0382711</td><td>20.3892</td><td>0.152736</td><td>nan</td><td>nan</td><td>nan</td><td>nan</td><td>nan</td><td>nan</td><td>--</td><td>nan</td><td>nan</td><td>nan</td><td>nan</td><td>nan</td><td>nan</td><td>nan</td><td>nan</td><td>nan</td><td>20.4292</td><td>0.010334</td><td>0.0202</td><td>gbprp</td><td>gaia2</td><td>nan</td><td>nan</td><td>nan</td><td>nan</td><td>nan</td><td>nan</td><td>nan</td><td>nan</td><td>nan</td><td>nan</td><td>nan</td><td>nan</td><td>--</td><td>nan</td><td>nan</td><td>1223.16</td><td>681.381</td><td>0.0169325</td><td>0.007262875</td><td>--</td><td>nan</td><td>--</td><td>--</td><td>nan</td><td>0.00264805</td><td>0.0118777</td><td>panstarrs</td><td>nan</td><td>nan</td><td>nan</td><td>nan</td><td>nan</td><td>nan</td><td>nan</td><td>nan</td><td>nan</td><td>nan</td><td>498.963</td><td>863.8</td><td>bj2018</td><td>nan</td><td>nan</td><td>--</td><td>20.4566</td><td>0.101355</td><td>19.7497</td><td>0.069818</td><td>0</td><td>--</td><td>gaia2</td><td>--</td><td>--</td><td>38.2490123891167</td><td>32.5477235915456</td><td>205.200284756326</td><td>27.9807621691372</td><td>0.799297371279669</td><td>0.786479639439553</td><td>1</td><td>1</td><td>1796.6079629804613</td></tr>\n",
       "<tr><td>1000653023</td><td>205.275233124544</td><td>27.9375329370953</td><td>4.64391</td><td>-9.6678</td><td>16.5548</td><td>STAR</td><td>gaia2</td><td>20190415</td><td>--</td><td>--</td><td>--</td><td>--</td><td>1237665428093796447</td><td>--</td><td>1454744631917132544</td><td>--</td><td>--</td><td>gaia2</td><td>0.161282</td><td>0.0968806</td><td>gaia2</td><td>0.46485</td><td>0.103863</td><td>gaia2</td><td>39.99811714267</td><td>78.9654527591318</td><td>191.305996672323</td><td>35.4430162045294</td><td>nan</td><td>nan</td><td>17.2058</td><td>0.0462</td><td>18.5462</td><td>0.0175977</td><td>17.4239</td><td>0.00495663</td><td>17.0041</td><td>0.00483267</td><td>16.895</td><td>0.00555199</td><td>16.8217</td><td>0.0106695</td><td>nan</td><td>nan</td><td>nan</td><td>nan</td><td>nan</td><td>nan</td><td>--</td><td>nan</td><td>nan</td><td>nan</td><td>nan</td><td>nan</td><td>nan</td><td>nan</td><td>nan</td><td>nan</td><td>17.035</td><td>0.000847</td><td>0.0076</td><td>rered</td><td>gaia2</td><td>5537.0</td><td>130.0</td><td>4.72006</td><td>nan</td><td>nan</td><td>nan</td><td>0.711856</td><td>nan</td><td>0.97</td><td>nan</td><td>2.68903</td><td>nan</td><td>DWARF</td><td>0.429118365</td><td>nan</td><td>1879.65</td><td>365.29</td><td>0.016933</td><td>0.007263145</td><td>--</td><td>nan</td><td>--</td><td>--</td><td>nan</td><td>0.00264829</td><td>0.011878</td><td>panstarrs</td><td>nan</td><td>nan</td><td>nan</td><td>nan</td><td>nan</td><td>nan</td><td>nan</td><td>nan</td><td>nan</td><td>nan</td><td>304.39</td><td>426.19</td><td>bj2018</td><td>nan</td><td>nan</td><td>dered</td><td>17.3787</td><td>0.005576</td><td>16.4579</td><td>0.014887</td><td>1</td><td>--</td><td>gaia2</td><td>--</td><td>--</td><td>2.57687703982993</td><td>1.50277097129082</td><td>205.275255756736</td><td>27.9374913118489</td><td>0.0652339275193667</td><td>0.0580514596186482</td><td>1</td><td>0</td><td>1796.718094425704</td></tr>\n",
       "<tr><td>1000687614</td><td>205.661960069873</td><td>28.8642055057706</td><td>-15.7902</td><td>-1.60485</td><td>18.4172</td><td>STAR</td><td>gaia2</td><td>20190415</td><td>--</td><td>--</td><td>--</td><td>--</td><td>1237665442593636506</td><td>--</td><td>1454907252259349888</td><td>--</td><td>--</td><td>gaia2</td><td>0.450171</td><td>0.285798</td><td>gaia2</td><td>0.205821</td><td>0.262132</td><td>gaia2</td><td>44.6412072472898</td><td>78.5691010351337</td><td>191.174915146097</td><td>36.424431584774</td><td>nan</td><td>nan</td><td>19.607</td><td>0.054</td><td>23.1896</td><td>0.573954</td><td>20.3869</td><td>0.0248095</td><td>19.1716</td><td>0.0126676</td><td>18.6695</td><td>0.0128391</td><td>18.3669</td><td>0.0292838</td><td>nan</td><td>nan</td><td>nan</td><td>nan</td><td>nan</td><td>nan</td><td>--</td><td>nan</td><td>nan</td><td>nan</td><td>nan</td><td>nan</td><td>nan</td><td>nan</td><td>nan</td><td>nan</td><td>19.1703</td><td>0.002851</td><td>0.0067</td><td>rered</td><td>gaia2</td><td>4321.0</td><td>144.0</td><td>4.80999</td><td>nan</td><td>nan</td><td>nan</td><td>0.537392</td><td>nan</td><td>0.68</td><td>nan</td><td>4.38163</td><td>nan</td><td>DWARF</td><td>0.0907014</td><td>nan</td><td>1960.09</td><td>685.855</td><td>0.0242481</td><td>0.00225579</td><td>--</td><td>nan</td><td>--</td><td>--</td><td>nan</td><td>0.00146921</td><td>0.00304237</td><td>panstarrs</td><td>nan</td><td>nan</td><td>nan</td><td>nan</td><td>nan</td><td>nan</td><td>nan</td><td>nan</td><td>nan</td><td>nan</td><td>538.47</td><td>833.24</td><td>bj2018</td><td>nan</td><td>nan</td><td>dered</td><td>19.8097</td><td>0.050811</td><td>18.2738</td><td>0.013761</td><td>1</td><td>--</td><td>gaia2</td><td>--</td><td>--</td><td>7.20768817864835</td><td>4.43267860042289</td><td>205.661882440047</td><td>28.8641985960219</td><td>0.196259382983882</td><td>0.157798027509984</td><td>1</td><td>0</td><td>1796.7731732614125</td></tr>\n",
       "<tr><td>1000689552</td><td>205.322302824701</td><td>28.8345415015954</td><td>0.34995</td><td>1.0938</td><td>19.6963</td><td>STAR</td><td>gaia2</td><td>20190415</td><td>--</td><td>--</td><td>--</td><td>--</td><td>1237665429167472809</td><td>--</td><td>1455091592255305088</td><td>--</td><td>--</td><td>gaia2</td><td>1.14502</td><td>0.762915</td><td>gaia2</td><td>-0.544858</td><td>0.692102</td><td>gaia2</td><td>44.6430233025674</td><td>78.8680787546137</td><td>190.860703911441</td><td>36.2652605411995</td><td>nan</td><td>nan</td><td>20.2218</td><td>0.0533</td><td>20.5177</td><td>0.0589646</td><td>19.9096</td><td>0.0154961</td><td>19.5645</td><td>0.0160559</td><td>19.5279</td><td>0.0210224</td><td>19.3667</td><td>0.0739573</td><td>nan</td><td>nan</td><td>nan</td><td>nan</td><td>nan</td><td>nan</td><td>--</td><td>nan</td><td>nan</td><td>nan</td><td>nan</td><td>nan</td><td>nan</td><td>nan</td><td>nan</td><td>nan</td><td>20.0981</td><td>0.010249</td><td>0.0179</td><td>gbprp</td><td>gaia2</td><td>nan</td><td>nan</td><td>nan</td><td>nan</td><td>nan</td><td>nan</td><td>nan</td><td>nan</td><td>nan</td><td>nan</td><td>nan</td><td>nan</td><td>--</td><td>nan</td><td>nan</td><td>1650.36</td><td>748.645</td><td>0.0203364</td><td>0.003330915</td><td>--</td><td>nan</td><td>--</td><td>--</td><td>nan</td><td>0.00453899</td><td>0.00212284</td><td>panstarrs</td><td>nan</td><td>nan</td><td>nan</td><td>nan</td><td>nan</td><td>nan</td><td>nan</td><td>nan</td><td>nan</td><td>nan</td><td>585.89</td><td>911.4</td><td>bj2018</td><td>nan</td><td>nan</td><td>--</td><td>20.143</td><td>0.077562</td><td>19.3797</td><td>0.051041</td><td>0</td><td>--</td><td>gaia2</td><td>--</td><td>--</td><td>18.3311732302344</td><td>11.8332222455194</td><td>205.32230454468</td><td>28.8345462110121</td><td>0.478699509271407</td><td>0.436127909619802</td><td>1</td><td>1</td><td>1798.5747321088704</td></tr>\n",
       "<tr><td>282834400</td><td>205.275485174666</td><td>27.9367776604997</td><td>nan</td><td>nan</td><td>15.7318</td><td>STAR</td><td>tmgaia2</td><td>20190415</td><td>--</td><td>--</td><td>--</td><td>13410614+2756121</td><td>1237665428093796446</td><td>J134106.11+275612.5</td><td>1454744627619180416</td><td>--</td><td>--</td><td>tmgaia2</td><td>nan</td><td>nan</td><td>--</td><td>nan</td><td>nan</td><td>--</td><td>39.9941528777896</td><td>78.9652489309216</td><td>191.306663825656</td><td>35.442437012851</td><td>19.617</td><td>0.166</td><td>18.4189</td><td>0.0558</td><td>21.7039</td><td>0.162808</td><td>19.1159</td><td>0.0113967</td><td>17.6539</td><td>0.00608767</td><td>16.2962</td><td>0.00468169</td><td>15.554</td><td>0.00565912</td><td>14.139</td><td>0.035</td><td>13.543</td><td>0.041</td><td>13.345</td><td>0.032</td><td>AAA-222-111-000-0-0</td><td>nan</td><td>13.09</td><td>0.025</td><td>12.936</td><td>0.027</td><td>12.379</td><td>0.351</td><td>8.815</td><td>nan</td><td>17.1932</td><td>0.006583</td><td>0.00922863</td><td>cdwrf</td><td>cdwrf</td><td>3368.0</td><td>157.0</td><td>4.9262</td><td>0.0200083</td><td>nan</td><td>nan</td><td>0.299556</td><td>0.0251022</td><td>0.276111</td><td>0.0334974</td><td>10.2719</td><td>1.34403</td><td>DWARF</td><td>0.0104025323</td><td>0.00372369168</td><td>nan</td><td>nan</td><td>nan</td><td>nan</td><td>31</td><td>0.113463931</td><td>--</td><td>--</td><td>0.000195682573</td><td>nan</td><td>nan</td><td>--</td><td>nan</td><td>nan</td><td>nan</td><td>nan</td><td>nan</td><td>nan</td><td>nan</td><td>nan</td><td>nan</td><td>nan</td><td>nan</td><td>nan</td><td>--</td><td>nan</td><td>nan</td><td>cdwrf</td><td>18.4179</td><td>0.033448</td><td>15.7966</td><td>0.005645</td><td>0</td><td>--</td><td>gaia2</td><td>bpbj</td><td>cooldwarfs_v8</td><td>0.278427394540786</td><td>0.288949962059263</td><td>205.275485174666</td><td>27.9367776604997</td><td>0.278427394540786</td><td>0.288949962059263</td><td>1</td><td>0</td><td>1798.7226427324986</td></tr>\n",
       "<tr><td>159201633</td><td>205.016996919483</td><td>28.1963972215067</td><td>-22.2075</td><td>-38.4198</td><td>17.0148</td><td>STAR</td><td>tmgaia2</td><td>20190415</td><td>--</td><td>--</td><td>--</td><td>13400408+2811470</td><td>1237665441519698120</td><td>J134004.05+281146.6</td><td>1454766725228773376</td><td>--</td><td>--</td><td>tmgaia2</td><td>0.302317</td><td>0.168587</td><td>gaia2</td><td>3.24901</td><td>0.174436</td><td>gaia2</td><td>41.4063305008988</td><td>79.1838786367928</td><td>190.914279502989</td><td>35.5743825791843</td><td>21.017</td><td>0.173</td><td>19.6714</td><td>0.0596</td><td>23.4048</td><td>0.729573</td><td>20.5458</td><td>0.0253262</td><td>19.1145</td><td>0.0121522</td><td>17.6065</td><td>0.00680468</td><td>16.8134</td><td>0.0111222</td><td>15.542</td><td>0.06</td><td>14.863</td><td>0.073</td><td>14.421</td><td>0.068</td><td>AAA-222-111-000-0-0</td><td>nan</td><td>14.335</td><td>0.027</td><td>14.182</td><td>0.041</td><td>12.267</td><td>nan</td><td>8.982</td><td>nan</td><td>18.3515</td><td>0.001848</td><td>0.0112065</td><td>cdwrf</td><td>cdwrf</td><td>3317.0</td><td>158.0</td><td>4.9129</td><td>0.0105387</td><td>nan</td><td>nan</td><td>0.311798</td><td>0.0184298</td><td>0.290123</td><td>0.0272168</td><td>9.57111</td><td>0.800237</td><td>DWARF</td><td>0.0106028654</td><td>0.00330236158</td><td>306.251</td><td>16.818</td><td>0.0109901</td><td>0.00432813</td><td>--</td><td>nan</td><td>--</td><td>--</td><td>nan</td><td>0.00335044</td><td>0.00530582</td><td>panstarrs</td><td>nan</td><td>nan</td><td>nan</td><td>nan</td><td>nan</td><td>nan</td><td>nan</td><td>nan</td><td>nan</td><td>nan</td><td>15.913</td><td>17.723</td><td>bj2018</td><td>nan</td><td>nan</td><td>cdwrf</td><td>19.8091</td><td>0.039127</td><td>17.0867</td><td>0.008757</td><td>1</td><td>--</td><td>gaia2</td><td>bpbj</td><td>cooldwarfs_v8</td><td>4.8330325001025</td><td>2.61496341272846</td><td>205.016888429723</td><td>28.1962318029686</td><td>0.124192860006237</td><td>0.0987414766256903</td><td>1</td><td>0</td><td>1798.9325626716125</td></tr>\n",
       "<tr><td>282834567</td><td>205.286446752743</td><td>28.8198966714933</td><td>11.7294</td><td>-39.3212</td><td>16.1606</td><td>STAR</td><td>tmgaia2</td><td>20190415</td><td>--</td><td>--</td><td>--</td><td>13410875+2849117</td><td>1237665429167472653</td><td>J134108.71+284909.4</td><td>1455090286586172928</td><td>--</td><td>--</td><td>tmgaia2</td><td>0.210295</td><td>0.114796</td><td>gaia2</td><td>5.39287</td><td>0.12444</td><td>gaia2</td><td>44.5839881842684</td><td>78.9008155202083</td><td>190.833936547601</td><td>36.2381445506603</td><td>15.279</td><td>0.076</td><td>18.84</td><td>0.2</td><td>23.0027</td><td>0.425226</td><td>19.5618</td><td>0.0127638</td><td>18.072</td><td>0.00709307</td><td>16.7059</td><td>0.00485901</td><td>16.0293</td><td>0.00753842</td><td>14.606</td><td>0.051</td><td>14.073</td><td>0.076</td><td>13.771</td><td>0.066</td><td>AAA-222-211-ccc-0-0</td><td>nan</td><td>13.403</td><td>0.13</td><td>13.245</td><td>0.121</td><td>11.841</td><td>nan</td><td>8.559</td><td>nan</td><td>17.4516</td><td>0.001096</td><td>0.00848563</td><td>cdwrf</td><td>cdwrf</td><td>3371.0</td><td>157.0</td><td>4.96988</td><td>0.00333925</td><td>nan</td><td>nan</td><td>0.262571</td><td>0.0113688</td><td>0.234588</td><td>0.0220654</td><td>12.9588</td><td>0.461149</td><td>DWARF</td><td>0.008020902</td><td>0.00220392272</td><td>184.596</td><td>4.276</td><td>0.013786</td><td>0.00310685</td><td>--</td><td>nan</td><td>--</td><td>--</td><td>nan</td><td>0.00343861</td><td>0.00277509</td><td>panstarrs</td><td>nan</td><td>nan</td><td>nan</td><td>nan</td><td>nan</td><td>nan</td><td>nan</td><td>nan</td><td>nan</td><td>nan</td><td>4.179</td><td>4.373</td><td>bj2018</td><td>nan</td><td>nan</td><td>cdwrf</td><td>18.8395</td><td>0.0233</td><td>16.2247</td><td>0.004465</td><td>1</td><td>--</td><td>cdwrf</td><td>bpbj</td><td>cooldwarfs_v8</td><td>3.3665272393354</td><td>1.78066448494119</td><td>205.286504393785</td><td>28.819727371893</td><td>0.0852178826148307</td><td>0.0687189179692181</td><td>1</td><td>0</td><td>1799.2007819202456</td></tr>\n",
       "</table></div>"
      ],
      "text/plain": [
       "<Table masked=True length=38275>\n",
       "    ID            ra              dec        ... wdflag     dstArcSec     \n",
       "  str11        float64          float64      ... int64       float64      \n",
       "---------- ---------------- ---------------- ... ------ ------------------\n",
       "1000665275 205.547031693134  28.375748354966 ...      0 1.3376162312536146\n",
       "1000665468 205.546610795332 28.3751091680569 ...     -1  1.338940059887551\n",
       "1000665257 205.547119284775 28.3750712761933 ...     -1  1.736030788564618\n",
       "1000665469 205.546199841483 28.3750814788638 ...     -1 2.2664903914244605\n",
       "1000665549 205.546759393709  28.376136814289 ...     -1 2.4733927790290418\n",
       " 416606921       205.546485        28.374798 ...      0  2.526353580487141\n",
       "1000665298  205.54599008957 28.3756726963824 ...      0 2.6273191595523895\n",
       "1000665712 205.547251019728 28.3748287099581 ...     -1 2.6885823650406953\n",
       "1000665401  205.54687955567 28.3746814458742 ...     -1 2.7847070634971516\n",
       "1000665550 205.547495674139 28.3760034333473 ...     -1  3.017978541601051\n",
       "       ...              ...              ... ...    ...                ...\n",
       "1000673973 206.065433340712 28.1748472791642 ...     -1 1795.9590383396783\n",
       "1000687618  205.69459188671 28.8572335127489 ...      1 1796.2225794049232\n",
       " 159201662       204.980162        28.397665 ...      0 1796.3360021078388\n",
       "1000653043 205.200286484915 27.9807692965109 ...      1 1796.6079629804613\n",
       "1000653023 205.275233124544 27.9375329370953 ...      0  1796.718094425704\n",
       "1000687614 205.661960069873 28.8642055057706 ...      0 1796.7731732614125\n",
       "1000689552 205.322302824701 28.8345415015954 ...      1 1798.5747321088704\n",
       " 282834400 205.275485174666 27.9367776604997 ...      0 1798.7226427324986\n",
       " 159201633 205.016996919483 28.1963972215067 ...      0 1798.9325626716125\n",
       " 282834567 205.286446752743 28.8198966714933 ...      0 1799.2007819202456"
      ]
     },
     "execution_count": 41,
     "metadata": {},
     "output_type": "execute_result"
    }
   ],
   "source": [
    "catalogTIC = Catalogs.query_object(target_name, radius=search_radius_deg, catalog=\"TIC\")\n",
    "catalogTIC"
   ]
  },
  {
   "cell_type": "code",
   "execution_count": 21,
   "id": "1d21a82e",
   "metadata": {},
   "outputs": [],
   "source": [
    "def getCMD(catalog, vis, infra, title, save_plot=False):\n",
    "    \"\"\"\n",
    "    This function uses a catalog from the user as input and returns a \n",
    "    colour magnitude diagram for all the stars observed in that catalogue.\n",
    "    \n",
    "        Dependencies: \n",
    "            numpy\n",
    "            matplotlib.pyplot\n",
    "            scipy.stats.gaussian_kde\n",
    "            \n",
    "        Parameters:\n",
    "            catalog (astropy.table): The catalog to plot a colour magnitude diagram from.\n",
    "            vis (str): The name of the column with the Visual filter magnitude.\n",
    "            infra (str): The name of the column with the Infrared filter magnitude.\n",
    "            title (str): The title of the colour magnitude plot\n",
    "            save_plot (bool): A flag to save the figure. Defaults to false, to save the figure, change the flag to True\n",
    "        \n",
    "        Returns:\n",
    "            ax(matplotlib.axes._subplots.AxesSubplot): A matplot axes object containing the colour magnitude diagram.\n",
    "    \"\"\"\n",
    "    \n",
    "    visual = catalog[vis]\n",
    "    infrared = catalog[infra]\n",
    "     \n",
    "    VminusI = visual-infrared\n",
    "    \n",
    "    w = np.where((VminusI > -1.5) & (VminusI < 2.5))\n",
    "    \n",
    "    # Calculate the point density\n",
    "    x = np.array(VminusI[w])\n",
    "    y = np.array(visual[w])\n",
    "    xy = np.vstack([x,y])\n",
    "    \n",
    "    f, ax = plt.subplots(figsize=(7,7))\n",
    "    ax.set_xlabel(f\"{vis}-{infra}\", fontsize=12)\n",
    "    ax.set_ylabel(f\"{vis}\", fontsize=12)\n",
    "    ax.invert_yaxis()\n",
    "    ax.set_title(title)\n",
    "    plt.text(.12,.95,f'{len(x)} stars', horizontalalignment='center', transform=ax.transAxes, size=13)\n",
    "    ax.scatter(x, y, s=2, color=\"red\")\n",
    "    if save_plot:\n",
    "        f.savefig(title.replace(\" \", \"_\")+\".png\")\n",
    "        print(title.replace(\" \", \"_\")+\".png\"+\" saved.\")\n",
    "    return ax"
   ]
  },
  {
   "cell_type": "code",
   "execution_count": 42,
   "id": "a2f99ca5",
   "metadata": {},
   "outputs": [
    {
     "data": {
      "image/png": "[encoded data removed]",
      "text/plain": [
       "<Figure size 504x504 with 1 Axes>"
      ]
     },
     "metadata": {
      "needs_background": "light"
     },
     "output_type": "display_data"
    }
   ],
   "source": [
    "cmd = getCMD(catalogTIC, \n",
    "             \"Vmag\", \n",
    "             \"fimag\", \n",
    "             f\"Colour Magnitude Diagram of stars in a {search_radius_deg} degree radius of {target_name}\")"
   ]
  },
  {
   "cell_type": "markdown",
   "id": "3ab3d5a3",
   "metadata": {},
   "source": [
    "## About this Notebook\n",
    "**Author:** Mikhail Martins<br>\n",
    "**Last Updated on:** 9th June, 2022"
   ]
  },
  {
   "cell_type": "markdown",
   "id": "fd7651b5",
   "metadata": {},
   "source": [
    "[Top of Page](#top_page)<br>\n",
    "[ADQL Query](#query)"
   ]
  },
  {
   "cell_type": "code",
   "execution_count": null,
   "id": "9f4823e4",
   "metadata": {},
   "outputs": [],
   "source": []
  }
 ],
 "metadata": {
  "kernelspec": {
   "display_name": "Python 3 (ipykernel)",
   "language": "python",
   "name": "python3"
  },
  "language_info": {
   "codemirror_mode": {
    "name": "ipython",
    "version": 3
   },
   "file_extension": ".py",
   "mimetype": "text/x-python",
   "name": "python",
   "nbconvert_exporter": "python",
   "pygments_lexer": "ipython3",
   "version": "3.10.9"
  }
 },
 "nbformat": 4,
 "nbformat_minor": 5
}
